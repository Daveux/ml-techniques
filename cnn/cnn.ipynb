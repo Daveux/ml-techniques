{
  "nbformat": 4,
  "nbformat_minor": 0,
  "metadata": {
    "colab": {
      "provenance": []
    },
    "kernelspec": {
      "name": "python3",
      "display_name": "Python 3"
    },
    "language_info": {
      "name": "python"
    }
  },
  "cells": [
    {
      "cell_type": "markdown",
      "source": [
        "#Step 0: Imports and Seed Setup"
      ],
      "metadata": {
        "id": "V6mllMVsL8Qz"
      }
    },
    {
      "cell_type": "code",
      "execution_count": 1,
      "metadata": {
        "id": "sTt9_xULCDUv"
      },
      "outputs": [],
      "source": [
        "import numpy as np\n",
        "import tensorflow as tf\n",
        "from tensorflow import keras\n",
        "from tensorflow.keras import layers\n",
        "import matplotlib.pyplot as plt\n",
        "\n",
        "# Set the random seed for reproducibility\n",
        "SEED = 181\n",
        "tf.random.set_seed(SEED)\n",
        "np.random.seed(SEED)\n"
      ]
    },
    {
      "cell_type": "markdown",
      "source": [
        "#Step 1: Load the MNIST Dataset"
      ],
      "metadata": {
        "id": "cCT6deXbMzga"
      }
    },
    {
      "cell_type": "code",
      "source": [
        "from tensorflow.keras.datasets import mnist\n",
        "\n",
        "# Load the dataset\n",
        "(x_train, y_train), (x_test, y_test) = mnist.load_data()\n"
      ],
      "metadata": {
        "id": "i9YFQvLIMz_X"
      },
      "execution_count": 3,
      "outputs": []
    },
    {
      "cell_type": "markdown",
      "source": [
        "#Step 2: Print the number of images in train and test sets"
      ],
      "metadata": {
        "id": "GX0oLJSsM1cI"
      }
    },
    {
      "cell_type": "code",
      "source": [
        "print(f\"Number of training images: {x_train.shape[0]}\")\n",
        "print(f\"Number of test images: {x_test.shape[0]}\")"
      ],
      "metadata": {
        "colab": {
          "base_uri": "https://localhost:8080/"
        },
        "id": "UNAjoXZjM1n0",
        "outputId": "b4d19025-6aaf-4795-f2a4-e098dd3ec6fa"
      },
      "execution_count": 4,
      "outputs": [
        {
          "output_type": "stream",
          "name": "stdout",
          "text": [
            "Number of training images: 60000\n",
            "Number of test images: 10000\n"
          ]
        }
      ]
    },
    {
      "cell_type": "markdown",
      "source": [
        "#Step 3: Print first 5 images in the train set along with their corresponding number"
      ],
      "metadata": {
        "id": "3pg1WwRQM14x"
      }
    },
    {
      "cell_type": "code",
      "source": [
        "plt.figure(figsize=(10, 2))\n",
        "\n",
        "for i in range(5):\n",
        "    plt.subplot(1, 5, i+1)  # create a 1 x 5 grid of subplots\n",
        "    plt.imshow(x_train[i], cmap='gray')  # show in grayscale\n",
        "    plt.title(f\"Label: {y_train[i]}\")\n",
        "    plt.axis('off')\n",
        "\n",
        "plt.tight_layout()\n",
        "plt.show()\n"
      ],
      "metadata": {
        "colab": {
          "base_uri": "https://localhost:8080/",
          "height": 217
        },
        "id": "Rd8AGj6YM2Et",
        "outputId": "9f27a2f5-6850-4e0b-9674-fef2f51e751e"
      },
      "execution_count": 5,
      "outputs": [
        {
          "output_type": "display_data",
          "data": {
            "text/plain": [
              "<Figure size 1000x200 with 5 Axes>"
            ],
            "image/png": "[encoded data removed]"
          },
          "metadata": {}
        }
      ]
    },
    {
      "cell_type": "markdown",
      "source": [
        "#Step 4: Reshape the images to include the channel dimension"
      ],
      "metadata": {
        "id": "9cMdeWmqM2Vs"
      }
    },
    {
      "cell_type": "code",
      "source": [
        "# Since the images are 28x28 in grayscale, we add 1 channel\n",
        "x_train = x_train.reshape((x_train.shape[0], 28, 28, 1))\n",
        "x_test  = x_test.reshape((x_test.shape[0], 28, 28, 1))\n",
        "print(\"New shape of x_train:\", x_train.shape)\n",
        "print(\"New shape of x_test:\", x_test.shape)"
      ],
      "metadata": {
        "colab": {
          "base_uri": "https://localhost:8080/"
        },
        "id": "9skVRfvSM2gY",
        "outputId": "d04bff0b-ebd7-4fbd-c9a7-3d91a3a5bb7c"
      },
      "execution_count": 6,
      "outputs": [
        {
          "output_type": "stream",
          "name": "stdout",
          "text": [
            "New shape of x_train: (60000, 28, 28, 1)\n",
            "New shape of x_test: (10000, 28, 28, 1)\n"
          ]
        }
      ]
    },
    {
      "cell_type": "markdown",
      "source": [
        "#Step 5: Normalize the images"
      ],
      "metadata": {
        "id": "AEXKpdgWM2vO"
      }
    },
    {
      "cell_type": "code",
      "source": [
        "x_train = x_train.astype('float32') / 255.0\n",
        "x_test  = x_test.astype('float32') / 255.0"
      ],
      "metadata": {
        "id": "K9GCkd2YM27d"
      },
      "execution_count": 7,
      "outputs": []
    },
    {
      "cell_type": "markdown",
      "source": [
        "#Step 6: Apply one-hot encoding on the y values"
      ],
      "metadata": {
        "id": "t02u8iwZM3Ht"
      }
    },
    {
      "cell_type": "code",
      "source": [
        "from tensorflow.keras.utils import to_categorical\n",
        "\n",
        "# Keep a copy of the old labels for printing purposes\n",
        "y_train_old = y_train.copy()\n",
        "y_test_old  = y_test.copy()\n",
        "\n",
        "# Convert numeric labels to one-hot vectors\n",
        "y_train = to_categorical(y_train, num_classes=10)\n",
        "y_test  = to_categorical(y_test, num_classes=10)\n"
      ],
      "metadata": {
        "id": "PguQpWUjM3S6"
      },
      "execution_count": 8,
      "outputs": []
    },
    {
      "cell_type": "markdown",
      "source": [
        "#Step 7: Print old and new values for the first 5 instances of y_train"
      ],
      "metadata": {
        "id": "jWr4pYEYM3ha"
      }
    },
    {
      "cell_type": "code",
      "source": [
        "print(\"Old y_train labels (first 5):\", y_train_old[:5])\n",
        "print(\"New (one-hot) y_train labels (first 5):\")\n",
        "for i in range(5):\n",
        "    print(y_train[i])"
      ],
      "metadata": {
        "colab": {
          "base_uri": "https://localhost:8080/"
        },
        "id": "THbWS4D0M3uO",
        "outputId": "5f6d5e9a-85e0-4ef1-edf7-aaec53263d46"
      },
      "execution_count": 9,
      "outputs": [
        {
          "output_type": "stream",
          "name": "stdout",
          "text": [
            "Old y_train labels (first 5): [5 0 4 1 9]\n",
            "New (one-hot) y_train labels (first 5):\n",
            "[0. 0. 0. 0. 0. 1. 0. 0. 0. 0.]\n",
            "[1. 0. 0. 0. 0. 0. 0. 0. 0. 0.]\n",
            "[0. 0. 0. 0. 1. 0. 0. 0. 0. 0.]\n",
            "[0. 1. 0. 0. 0. 0. 0. 0. 0. 0.]\n",
            "[0. 0. 0. 0. 0. 0. 0. 0. 0. 1.]\n"
          ]
        }
      ]
    },
    {
      "cell_type": "markdown",
      "source": [
        "#Step 8: Build the CNN Model"
      ],
      "metadata": {
        "id": "jND-3fLeM37g"
      }
    },
    {
      "cell_type": "code",
      "source": [
        "from tensorflow.keras.models import Sequential\n",
        "from tensorflow.keras.layers import Conv2D, MaxPooling2D, Dropout, Flatten, Dense\n",
        "\n",
        "model = Sequential()\n",
        "\n",
        "# Convolution Layer 1\n",
        "model.add(Conv2D(\n",
        "    filters=32,              # Number of filters\n",
        "    kernel_size=(3, 3),      # Filter size (height, width)\n",
        "    strides=(1, 1),          # Step size the filter moves\n",
        "    padding='valid',         # 'valid' means no padding, 'same' pads so output size matches input\n",
        "    activation='relu',\n",
        "    input_shape=(28, 28, 1)  # Input dimension: 28x28x1\n",
        "))\n",
        "\n",
        "# Max Pooling Layer 1\n",
        "model.add(MaxPooling2D(\n",
        "    pool_size=(2, 2),        # Size of the max pooling windows\n",
        "    strides=(2, 2)           # How far the pooling window moves each time\n",
        "))\n",
        "\n",
        "# Dropout Layer\n",
        "model.add(Dropout(0.25))     # 25% of the nodes are randomly \"dropped\" to prevent overfitting\n",
        "\n",
        "# Convolution Layer 2\n",
        "model.add(Conv2D(\n",
        "    filters=64,\n",
        "    kernel_size=(3, 3),\n",
        "    activation='relu',\n",
        "    padding='valid'\n",
        "))\n",
        "\n",
        "# Max Pooling Layer 2\n",
        "model.add(MaxPooling2D(pool_size=(2, 2)))\n",
        "model.add(Dropout(0.25))     # Another dropout to reduce overfitting\n",
        "\n",
        "# Flatten Layer\n",
        "model.add(Flatten())         # Flattens the 2D feature maps into a single 1D vector\n",
        "\n",
        "# Dense (Fully Connected) Layer\n",
        "model.add(Dense(\n",
        "    units=128,               # Number of neurons\n",
        "    activation='relu'\n",
        "))\n",
        "model.add(Dropout(0.5))      # Dropout with 50% for further regularization\n",
        "\n",
        "# Final Output Layer\n",
        "model.add(Dense(\n",
        "    units=10,                # 10 classes for digits 0-9\n",
        "    activation='softmax'     # Softmax outputs a probability distribution across 10 classes\n",
        "))\n"
      ],
      "metadata": {
        "colab": {
          "base_uri": "https://localhost:8080/"
        },
        "id": "z7QpCNu4M4Gu",
        "outputId": "528c63a7-4f42-47ca-fef6-b15e0426d091"
      },
      "execution_count": 10,
      "outputs": [
        {
          "output_type": "stream",
          "name": "stderr",
          "text": [
            "/usr/local/lib/python3.11/dist-packages/keras/src/layers/convolutional/base_conv.py:107: UserWarning: Do not pass an `input_shape`/`input_dim` argument to a layer. When using Sequential models, prefer using an `Input(shape)` object as the first layer in the model instead.\n",
            "  super().__init__(activity_regularizer=activity_regularizer, **kwargs)\n"
          ]
        }
      ]
    },
    {
      "cell_type": "markdown",
      "source": [
        "#Step 9: Compile the model"
      ],
      "metadata": {
        "id": "Gwl2z3bPM4VB"
      }
    },
    {
      "cell_type": "code",
      "source": [
        "model.compile(\n",
        "    optimizer='adam',              # Adam is a popular choice for faster convergence\n",
        "    loss='categorical_crossentropy', # For multi-class classification\n",
        "    metrics=['accuracy']\n",
        ")"
      ],
      "metadata": {
        "id": "qjBJRomqM4gE"
      },
      "execution_count": 11,
      "outputs": []
    },
    {
      "cell_type": "markdown",
      "source": [
        "#Step 10: Print the model summary"
      ],
      "metadata": {
        "id": "NeFHAU-LM4to"
      }
    },
    {
      "cell_type": "code",
      "source": [
        "model.summary()"
      ],
      "metadata": {
        "colab": {
          "base_uri": "https://localhost:8080/",
          "height": 479
        },
        "id": "1ihSdOPuM45f",
        "outputId": "97c2ca5a-c355-45a6-d431-288bd5369ff7"
      },
      "execution_count": 12,
      "outputs": [
        {
          "output_type": "display_data",
          "data": {
            "text/plain": [
              "\u001b[1mModel: \"sequential\"\u001b[0m\n"
            ],
            "text/html": [
              "<pre style=\"white-space:pre;overflow-x:auto;line-height:normal;font-family:Menlo,'DejaVu Sans Mono',consolas,'Courier New',monospace\"><span style=\"font-weight: bold\">Model: \"sequential\"</span>\n",
              "</pre>\n"
            ]
          },
          "metadata": {}
        },
        {
          "output_type": "display_data",
          "data": {
            "text/plain": [
              "┏━━━━━━━━━━━━━━━━━━━━━━━━━━━━━━━━━━━━━━┳━━━━━━━━━━━━━━━━━━━━━━━━━━━━━┳━━━━━━━━━━━━━━━━━┓\n",
              "┃\u001b[1m \u001b[0m\u001b[1mLayer (type)                        \u001b[0m\u001b[1m \u001b[0m┃\u001b[1m \u001b[0m\u001b[1mOutput Shape               \u001b[0m\u001b[1m \u001b[0m┃\u001b[1m \u001b[0m\u001b[1m        Param #\u001b[0m\u001b[1m \u001b[0m┃\n",
              "┡━━━━━━━━━━━━━━━━━━━━━━━━━━━━━━━━━━━━━━╇━━━━━━━━━━━━━━━━━━━━━━━━━━━━━╇━━━━━━━━━━━━━━━━━┩\n",
              "│ conv2d (\u001b[38;5;33mConv2D\u001b[0m)                      │ (\u001b[38;5;45mNone\u001b[0m, \u001b[38;5;34m26\u001b[0m, \u001b[38;5;34m26\u001b[0m, \u001b[38;5;34m32\u001b[0m)          │             \u001b[38;5;34m320\u001b[0m │\n",
              "├──────────────────────────────────────┼─────────────────────────────┼─────────────────┤\n",
              "│ max_pooling2d (\u001b[38;5;33mMaxPooling2D\u001b[0m)         │ (\u001b[38;5;45mNone\u001b[0m, \u001b[38;5;34m13\u001b[0m, \u001b[38;5;34m13\u001b[0m, \u001b[38;5;34m32\u001b[0m)          │               \u001b[38;5;34m0\u001b[0m │\n",
              "├──────────────────────────────────────┼─────────────────────────────┼─────────────────┤\n",
              "│ dropout (\u001b[38;5;33mDropout\u001b[0m)                    │ (\u001b[38;5;45mNone\u001b[0m, \u001b[38;5;34m13\u001b[0m, \u001b[38;5;34m13\u001b[0m, \u001b[38;5;34m32\u001b[0m)          │               \u001b[38;5;34m0\u001b[0m │\n",
              "├──────────────────────────────────────┼─────────────────────────────┼─────────────────┤\n",
              "│ conv2d_1 (\u001b[38;5;33mConv2D\u001b[0m)                    │ (\u001b[38;5;45mNone\u001b[0m, \u001b[38;5;34m11\u001b[0m, \u001b[38;5;34m11\u001b[0m, \u001b[38;5;34m64\u001b[0m)          │          \u001b[38;5;34m18,496\u001b[0m │\n",
              "├──────────────────────────────────────┼─────────────────────────────┼─────────────────┤\n",
              "│ max_pooling2d_1 (\u001b[38;5;33mMaxPooling2D\u001b[0m)       │ (\u001b[38;5;45mNone\u001b[0m, \u001b[38;5;34m5\u001b[0m, \u001b[38;5;34m5\u001b[0m, \u001b[38;5;34m64\u001b[0m)            │               \u001b[38;5;34m0\u001b[0m │\n",
              "├──────────────────────────────────────┼─────────────────────────────┼─────────────────┤\n",
              "│ dropout_1 (\u001b[38;5;33mDropout\u001b[0m)                  │ (\u001b[38;5;45mNone\u001b[0m, \u001b[38;5;34m5\u001b[0m, \u001b[38;5;34m5\u001b[0m, \u001b[38;5;34m64\u001b[0m)            │               \u001b[38;5;34m0\u001b[0m │\n",
              "├──────────────────────────────────────┼─────────────────────────────┼─────────────────┤\n",
              "│ flatten (\u001b[38;5;33mFlatten\u001b[0m)                    │ (\u001b[38;5;45mNone\u001b[0m, \u001b[38;5;34m1600\u001b[0m)                │               \u001b[38;5;34m0\u001b[0m │\n",
              "├──────────────────────────────────────┼─────────────────────────────┼─────────────────┤\n",
              "│ dense (\u001b[38;5;33mDense\u001b[0m)                        │ (\u001b[38;5;45mNone\u001b[0m, \u001b[38;5;34m128\u001b[0m)                 │         \u001b[38;5;34m204,928\u001b[0m │\n",
              "├──────────────────────────────────────┼─────────────────────────────┼─────────────────┤\n",
              "│ dropout_2 (\u001b[38;5;33mDropout\u001b[0m)                  │ (\u001b[38;5;45mNone\u001b[0m, \u001b[38;5;34m128\u001b[0m)                 │               \u001b[38;5;34m0\u001b[0m │\n",
              "├──────────────────────────────────────┼─────────────────────────────┼─────────────────┤\n",
              "│ dense_1 (\u001b[38;5;33mDense\u001b[0m)                      │ (\u001b[38;5;45mNone\u001b[0m, \u001b[38;5;34m10\u001b[0m)                  │           \u001b[38;5;34m1,290\u001b[0m │\n",
              "└──────────────────────────────────────┴─────────────────────────────┴─────────────────┘\n"
            ],
            "text/html": [
              "<pre style=\"white-space:pre;overflow-x:auto;line-height:normal;font-family:Menlo,'DejaVu Sans Mono',consolas,'Courier New',monospace\">┏━━━━━━━━━━━━━━━━━━━━━━━━━━━━━━━━━━━━━━┳━━━━━━━━━━━━━━━━━━━━━━━━━━━━━┳━━━━━━━━━━━━━━━━━┓\n",
              "┃<span style=\"font-weight: bold\"> Layer (type)                         </span>┃<span style=\"font-weight: bold\"> Output Shape                </span>┃<span style=\"font-weight: bold\">         Param # </span>┃\n",
              "┡━━━━━━━━━━━━━━━━━━━━━━━━━━━━━━━━━━━━━━╇━━━━━━━━━━━━━━━━━━━━━━━━━━━━━╇━━━━━━━━━━━━━━━━━┩\n",
              "│ conv2d (<span style=\"color: #0087ff; text-decoration-color: #0087ff\">Conv2D</span>)                      │ (<span style=\"color: #00d7ff; text-decoration-color: #00d7ff\">None</span>, <span style=\"color: #00af00; text-decoration-color: #00af00\">26</span>, <span style=\"color: #00af00; text-decoration-color: #00af00\">26</span>, <span style=\"color: #00af00; text-decoration-color: #00af00\">32</span>)          │             <span style=\"color: #00af00; text-decoration-color: #00af00\">320</span> │\n",
              "├──────────────────────────────────────┼─────────────────────────────┼─────────────────┤\n",
              "│ max_pooling2d (<span style=\"color: #0087ff; text-decoration-color: #0087ff\">MaxPooling2D</span>)         │ (<span style=\"color: #00d7ff; text-decoration-color: #00d7ff\">None</span>, <span style=\"color: #00af00; text-decoration-color: #00af00\">13</span>, <span style=\"color: #00af00; text-decoration-color: #00af00\">13</span>, <span style=\"color: #00af00; text-decoration-color: #00af00\">32</span>)          │               <span style=\"color: #00af00; text-decoration-color: #00af00\">0</span> │\n",
              "├──────────────────────────────────────┼─────────────────────────────┼─────────────────┤\n",
              "│ dropout (<span style=\"color: #0087ff; text-decoration-color: #0087ff\">Dropout</span>)                    │ (<span style=\"color: #00d7ff; text-decoration-color: #00d7ff\">None</span>, <span style=\"color: #00af00; text-decoration-color: #00af00\">13</span>, <span style=\"color: #00af00; text-decoration-color: #00af00\">13</span>, <span style=\"color: #00af00; text-decoration-color: #00af00\">32</span>)          │               <span style=\"color: #00af00; text-decoration-color: #00af00\">0</span> │\n",
              "├──────────────────────────────────────┼─────────────────────────────┼─────────────────┤\n",
              "│ conv2d_1 (<span style=\"color: #0087ff; text-decoration-color: #0087ff\">Conv2D</span>)                    │ (<span style=\"color: #00d7ff; text-decoration-color: #00d7ff\">None</span>, <span style=\"color: #00af00; text-decoration-color: #00af00\">11</span>, <span style=\"color: #00af00; text-decoration-color: #00af00\">11</span>, <span style=\"color: #00af00; text-decoration-color: #00af00\">64</span>)          │          <span style=\"color: #00af00; text-decoration-color: #00af00\">18,496</span> │\n",
              "├──────────────────────────────────────┼─────────────────────────────┼─────────────────┤\n",
              "│ max_pooling2d_1 (<span style=\"color: #0087ff; text-decoration-color: #0087ff\">MaxPooling2D</span>)       │ (<span style=\"color: #00d7ff; text-decoration-color: #00d7ff\">None</span>, <span style=\"color: #00af00; text-decoration-color: #00af00\">5</span>, <span style=\"color: #00af00; text-decoration-color: #00af00\">5</span>, <span style=\"color: #00af00; text-decoration-color: #00af00\">64</span>)            │               <span style=\"color: #00af00; text-decoration-color: #00af00\">0</span> │\n",
              "├──────────────────────────────────────┼─────────────────────────────┼─────────────────┤\n",
              "│ dropout_1 (<span style=\"color: #0087ff; text-decoration-color: #0087ff\">Dropout</span>)                  │ (<span style=\"color: #00d7ff; text-decoration-color: #00d7ff\">None</span>, <span style=\"color: #00af00; text-decoration-color: #00af00\">5</span>, <span style=\"color: #00af00; text-decoration-color: #00af00\">5</span>, <span style=\"color: #00af00; text-decoration-color: #00af00\">64</span>)            │               <span style=\"color: #00af00; text-decoration-color: #00af00\">0</span> │\n",
              "├──────────────────────────────────────┼─────────────────────────────┼─────────────────┤\n",
              "│ flatten (<span style=\"color: #0087ff; text-decoration-color: #0087ff\">Flatten</span>)                    │ (<span style=\"color: #00d7ff; text-decoration-color: #00d7ff\">None</span>, <span style=\"color: #00af00; text-decoration-color: #00af00\">1600</span>)                │               <span style=\"color: #00af00; text-decoration-color: #00af00\">0</span> │\n",
              "├──────────────────────────────────────┼─────────────────────────────┼─────────────────┤\n",
              "│ dense (<span style=\"color: #0087ff; text-decoration-color: #0087ff\">Dense</span>)                        │ (<span style=\"color: #00d7ff; text-decoration-color: #00d7ff\">None</span>, <span style=\"color: #00af00; text-decoration-color: #00af00\">128</span>)                 │         <span style=\"color: #00af00; text-decoration-color: #00af00\">204,928</span> │\n",
              "├──────────────────────────────────────┼─────────────────────────────┼─────────────────┤\n",
              "│ dropout_2 (<span style=\"color: #0087ff; text-decoration-color: #0087ff\">Dropout</span>)                  │ (<span style=\"color: #00d7ff; text-decoration-color: #00d7ff\">None</span>, <span style=\"color: #00af00; text-decoration-color: #00af00\">128</span>)                 │               <span style=\"color: #00af00; text-decoration-color: #00af00\">0</span> │\n",
              "├──────────────────────────────────────┼─────────────────────────────┼─────────────────┤\n",
              "│ dense_1 (<span style=\"color: #0087ff; text-decoration-color: #0087ff\">Dense</span>)                      │ (<span style=\"color: #00d7ff; text-decoration-color: #00d7ff\">None</span>, <span style=\"color: #00af00; text-decoration-color: #00af00\">10</span>)                  │           <span style=\"color: #00af00; text-decoration-color: #00af00\">1,290</span> │\n",
              "└──────────────────────────────────────┴─────────────────────────────┴─────────────────┘\n",
              "</pre>\n"
            ]
          },
          "metadata": {}
        },
        {
          "output_type": "display_data",
          "data": {
            "text/plain": [
              "\u001b[1m Total params: \u001b[0m\u001b[38;5;34m225,034\u001b[0m (879.04 KB)\n"
            ],
            "text/html": [
              "<pre style=\"white-space:pre;overflow-x:auto;line-height:normal;font-family:Menlo,'DejaVu Sans Mono',consolas,'Courier New',monospace\"><span style=\"font-weight: bold\"> Total params: </span><span style=\"color: #00af00; text-decoration-color: #00af00\">225,034</span> (879.04 KB)\n",
              "</pre>\n"
            ]
          },
          "metadata": {}
        },
        {
          "output_type": "display_data",
          "data": {
            "text/plain": [
              "\u001b[1m Trainable params: \u001b[0m\u001b[38;5;34m225,034\u001b[0m (879.04 KB)\n"
            ],
            "text/html": [
              "<pre style=\"white-space:pre;overflow-x:auto;line-height:normal;font-family:Menlo,'DejaVu Sans Mono',consolas,'Courier New',monospace\"><span style=\"font-weight: bold\"> Trainable params: </span><span style=\"color: #00af00; text-decoration-color: #00af00\">225,034</span> (879.04 KB)\n",
              "</pre>\n"
            ]
          },
          "metadata": {}
        },
        {
          "output_type": "display_data",
          "data": {
            "text/plain": [
              "\u001b[1m Non-trainable params: \u001b[0m\u001b[38;5;34m0\u001b[0m (0.00 B)\n"
            ],
            "text/html": [
              "<pre style=\"white-space:pre;overflow-x:auto;line-height:normal;font-family:Menlo,'DejaVu Sans Mono',consolas,'Courier New',monospace\"><span style=\"font-weight: bold\"> Non-trainable params: </span><span style=\"color: #00af00; text-decoration-color: #00af00\">0</span> (0.00 B)\n",
              "</pre>\n"
            ]
          },
          "metadata": {}
        }
      ]
    },
    {
      "cell_type": "markdown",
      "source": [
        "#Step 11: Fit the model"
      ],
      "metadata": {
        "id": "sJDMUBxqM5Jp"
      }
    },
    {
      "cell_type": "code",
      "source": [
        "history = model.fit(\n",
        "    x_train,       # Training images\n",
        "    y_train,       # Training labels (one-hot)\n",
        "    batch_size=128,    # Number of samples per gradient update\n",
        "    epochs=10,         # Number of passes through the full training dataset\n",
        "    validation_data=(x_test, y_test)  # Validation set to check performance each epoch\n",
        ")"
      ],
      "metadata": {
        "colab": {
          "base_uri": "https://localhost:8080/"
        },
        "id": "0Q43U7cGM5Vn",
        "outputId": "2a3971ed-a6d8-4b45-87bb-338d3ecec97a"
      },
      "execution_count": 13,
      "outputs": [
        {
          "output_type": "stream",
          "name": "stdout",
          "text": [
            "Epoch 1/10\n",
            "\u001b[1m469/469\u001b[0m \u001b[32m━━━━━━━━━━━━━━━━━━━━\u001b[0m\u001b[37m\u001b[0m \u001b[1m58s\u001b[0m 118ms/step - accuracy: 0.7622 - loss: 0.7316 - val_accuracy: 0.9772 - val_loss: 0.0728\n",
            "Epoch 2/10\n",
            "\u001b[1m469/469\u001b[0m \u001b[32m━━━━━━━━━━━━━━━━━━━━\u001b[0m\u001b[37m\u001b[0m \u001b[1m80s\u001b[0m 114ms/step - accuracy: 0.9604 - loss: 0.1346 - val_accuracy: 0.9858 - val_loss: 0.0440\n",
            "Epoch 3/10\n",
            "\u001b[1m469/469\u001b[0m \u001b[32m━━━━━━━━━━━━━━━━━━━━\u001b[0m\u001b[37m\u001b[0m \u001b[1m82s\u001b[0m 114ms/step - accuracy: 0.9702 - loss: 0.0983 - val_accuracy: 0.9883 - val_loss: 0.0363\n",
            "Epoch 4/10\n",
            "\u001b[1m469/469\u001b[0m \u001b[32m━━━━━━━━━━━━━━━━━━━━\u001b[0m\u001b[37m\u001b[0m \u001b[1m81s\u001b[0m 112ms/step - accuracy: 0.9765 - loss: 0.0776 - val_accuracy: 0.9883 - val_loss: 0.0342\n",
            "Epoch 5/10\n",
            "\u001b[1m469/469\u001b[0m \u001b[32m━━━━━━━━━━━━━━━━━━━━\u001b[0m\u001b[37m\u001b[0m \u001b[1m81s\u001b[0m 111ms/step - accuracy: 0.9791 - loss: 0.0701 - val_accuracy: 0.9891 - val_loss: 0.0296\n",
            "Epoch 6/10\n",
            "\u001b[1m469/469\u001b[0m \u001b[32m━━━━━━━━━━━━━━━━━━━━\u001b[0m\u001b[37m\u001b[0m \u001b[1m83s\u001b[0m 112ms/step - accuracy: 0.9820 - loss: 0.0619 - val_accuracy: 0.9907 - val_loss: 0.0276\n",
            "Epoch 7/10\n",
            "\u001b[1m469/469\u001b[0m \u001b[32m━━━━━━━━━━━━━━━━━━━━\u001b[0m\u001b[37m\u001b[0m \u001b[1m81s\u001b[0m 110ms/step - accuracy: 0.9832 - loss: 0.0574 - val_accuracy: 0.9906 - val_loss: 0.0287\n",
            "Epoch 8/10\n",
            "\u001b[1m469/469\u001b[0m \u001b[32m━━━━━━━━━━━━━━━━━━━━\u001b[0m\u001b[37m\u001b[0m \u001b[1m81s\u001b[0m 108ms/step - accuracy: 0.9835 - loss: 0.0545 - val_accuracy: 0.9915 - val_loss: 0.0245\n",
            "Epoch 9/10\n",
            "\u001b[1m469/469\u001b[0m \u001b[32m━━━━━━━━━━━━━━━━━━━━\u001b[0m\u001b[37m\u001b[0m \u001b[1m83s\u001b[0m 111ms/step - accuracy: 0.9856 - loss: 0.0482 - val_accuracy: 0.9925 - val_loss: 0.0225\n",
            "Epoch 10/10\n",
            "\u001b[1m469/469\u001b[0m \u001b[32m━━━━━━━━━━━━━━━━━━━━\u001b[0m\u001b[37m\u001b[0m \u001b[1m81s\u001b[0m 109ms/step - accuracy: 0.9865 - loss: 0.0441 - val_accuracy: 0.9919 - val_loss: 0.0234\n"
          ]
        }
      ]
    },
    {
      "cell_type": "markdown",
      "source": [
        "#Step 12: Predict on the test data"
      ],
      "metadata": {
        "id": "j3ewj2_3M5lC"
      }
    },
    {
      "cell_type": "code",
      "source": [
        "predictions = model.predict(x_test)"
      ],
      "metadata": {
        "colab": {
          "base_uri": "https://localhost:8080/"
        },
        "id": "xMad_t_EM5yo",
        "outputId": "b7c6b68c-a1d5-490c-dbc7-8275b177aebf"
      },
      "execution_count": 14,
      "outputs": [
        {
          "output_type": "stream",
          "name": "stdout",
          "text": [
            "\u001b[1m313/313\u001b[0m \u001b[32m━━━━━━━━━━━━━━━━━━━━\u001b[0m\u001b[37m\u001b[0m \u001b[1m5s\u001b[0m 16ms/step\n"
          ]
        }
      ]
    },
    {
      "cell_type": "markdown",
      "source": [
        "#Step 13: Print the accuracy of the model"
      ],
      "metadata": {
        "id": "1yWV0ZkJM5_0"
      }
    },
    {
      "cell_type": "code",
      "source": [
        "test_loss, test_accuracy = model.evaluate(x_test, y_test, verbose=0)\n",
        "print(f\"Test accuracy: {test_accuracy*100:.2f}%\")"
      ],
      "metadata": {
        "colab": {
          "base_uri": "https://localhost:8080/"
        },
        "id": "vC-li_6fM6MS",
        "outputId": "739f719f-9065-4d70-ca6f-726501190a88"
      },
      "execution_count": 15,
      "outputs": [
        {
          "output_type": "stream",
          "name": "stdout",
          "text": [
            "Test accuracy: 99.19%\n"
          ]
        }
      ]
    },
    {
      "cell_type": "markdown",
      "source": [
        "#Step 14: For each row, find the index of the highest probability"
      ],
      "metadata": {
        "id": "OM_77DtAM6b6"
      }
    },
    {
      "cell_type": "code",
      "source": [
        "# Convert predicted probabilities to class labels\n",
        "predicted_labels = np.argmax(predictions, axis=1)  # highest probability index\n",
        "actual_labels = np.argmax(y_test, axis=1)          # actual test labels (one-hot -> index)"
      ],
      "metadata": {
        "id": "1GCwcE-tM6oY"
      },
      "execution_count": 16,
      "outputs": []
    },
    {
      "cell_type": "markdown",
      "source": [
        "#Step 15: Print results for the first 20 instances"
      ],
      "metadata": {
        "id": "htEu2KniM632"
      }
    },
    {
      "cell_type": "code",
      "source": [
        "print(\"First 20 predictions vs actual (tabular format):\")\n",
        "\n",
        "# Print header row with aligned columns\n",
        "print(\"{:<7} | {:<18} | {:<15} | {:<12}\".format(\n",
        "    \"Sample\", \"Highest Probability\", \"Predicted Digit\", \"Actual Digit\"\n",
        "))\n",
        "print(\"-\"*60)\n",
        "\n",
        "# Print each row\n",
        "for i in range(20):\n",
        "    probs = predictions[i]\n",
        "    highest_prob = np.max(probs)\n",
        "    predicted_digit = predicted_labels[i]\n",
        "    actual_digit = actual_labels[i]\n",
        "\n",
        "    print(\"{:<7} | {:<18.6f} | {:<15d} | {:<12d}\".format(\n",
        "        i, highest_prob, predicted_digit, actual_digit\n",
        "    ))"
      ],
      "metadata": {
        "colab": {
          "base_uri": "https://localhost:8080/"
        },
        "id": "mEiBR8F_M7GX",
        "outputId": "8a3ebf08-085b-4cbc-dc05-fec9d5e888f6"
      },
      "execution_count": 18,
      "outputs": [
        {
          "output_type": "stream",
          "name": "stdout",
          "text": [
            "First 20 predictions vs actual (tabular format):\n",
            "Sample  | Highest Probability | Predicted Digit | Actual Digit\n",
            "------------------------------------------------------------\n",
            "0       | 1.000000           | 7               | 7           \n",
            "1       | 1.000000           | 2               | 2           \n",
            "2       | 0.999995           | 1               | 1           \n",
            "3       | 0.999997           | 0               | 0           \n",
            "4       | 0.999999           | 4               | 4           \n",
            "5       | 0.999999           | 1               | 1           \n",
            "6       | 0.999907           | 4               | 4           \n",
            "7       | 0.998195           | 9               | 9           \n",
            "8       | 0.998548           | 5               | 5           \n",
            "9       | 0.999491           | 9               | 9           \n",
            "10      | 1.000000           | 0               | 0           \n",
            "11      | 0.999999           | 6               | 6           \n",
            "12      | 0.999696           | 9               | 9           \n",
            "13      | 1.000000           | 0               | 0           \n",
            "14      | 1.000000           | 1               | 1           \n",
            "15      | 0.999993           | 5               | 5           \n",
            "16      | 0.999953           | 9               | 9           \n",
            "17      | 1.000000           | 7               | 7           \n",
            "18      | 0.617676           | 3               | 3           \n",
            "19      | 1.000000           | 4               | 4           \n"
          ]
        }
      ]
    },
    {
      "cell_type": "markdown",
      "source": [
        "#Step 16: Print results for all misclassified instances"
      ],
      "metadata": {
        "id": "6-ohpNKzM7TI"
      }
    },
    {
      "cell_type": "code",
      "source": [
        "print(\"Misclassified samples (tabular format):\")\n",
        "\n",
        "# Print header row with aligned columns\n",
        "print(\"{:<12} | {:<18} | {:<15} | {:<12}\".format(\n",
        "    \"Sample\", \"Highest Probability\", \"Predicted Digit\", \"Actual Digit\"\n",
        "))\n",
        "print(\"-\" * 60)\n",
        "\n",
        "# Print each misclassified instance in a row\n",
        "misclassified_indices = np.where(predicted_labels != actual_labels)[0]\n",
        "for i in misclassified_indices:\n",
        "    probs = predictions[i]\n",
        "    highest_prob = np.max(probs)\n",
        "    predicted_digit = predicted_labels[i]\n",
        "    actual_digit = actual_labels[i]\n",
        "\n",
        "    print(\"{:<12d} | {:<18.6f} | {:<15d} | {:<12d}\".format(\n",
        "        i, highest_prob, predicted_digit, actual_digit\n",
        "    ))"
      ],
      "metadata": {
        "colab": {
          "base_uri": "https://localhost:8080/"
        },
        "id": "ItlE5zx7M7ev",
        "outputId": "b3c7199f-c8da-4ab8-ab37-4ac7ab146713"
      },
      "execution_count": 21,
      "outputs": [
        {
          "output_type": "stream",
          "name": "stdout",
          "text": [
            "Misclassified samples (tabular format):\n",
            "Sample       | Highest Probability | Predicted Digit | Actual Digit\n",
            "------------------------------------------------------------\n",
            "259          | 0.521052           | 0               | 6           \n",
            "321          | 0.878033           | 7               | 2           \n",
            "340          | 0.682018           | 3               | 5           \n",
            "359          | 0.692607           | 4               | 9           \n",
            "495          | 0.514507           | 0               | 8           \n",
            "582          | 0.864467           | 2               | 8           \n",
            "659          | 0.493072           | 7               | 2           \n",
            "938          | 0.636697           | 5               | 3           \n",
            "947          | 0.711178           | 9               | 8           \n",
            "1014         | 0.991271           | 5               | 6           \n",
            "1033         | 0.647301           | 1               | 8           \n",
            "1112         | 0.580794           | 6               | 4           \n",
            "1114         | 0.715573           | 8               | 3           \n",
            "1182         | 0.470207           | 5               | 6           \n",
            "1226         | 0.901420           | 2               | 7           \n",
            "1232         | 0.876988           | 4               | 9           \n",
            "1247         | 0.784632           | 5               | 9           \n",
            "1260         | 0.795428           | 1               | 7           \n",
            "1299         | 0.648428           | 7               | 5           \n",
            "1319         | 0.687079           | 0               | 8           \n",
            "1530         | 0.784342           | 7               | 8           \n",
            "1681         | 0.713944           | 7               | 3           \n",
            "1709         | 0.499051           | 5               | 9           \n",
            "1790         | 0.381411           | 7               | 2           \n",
            "1878         | 0.997549           | 3               | 8           \n",
            "1901         | 0.988438           | 4               | 9           \n",
            "2035         | 0.546285           | 3               | 5           \n",
            "2118         | 0.679696           | 0               | 6           \n",
            "2135         | 0.953382           | 1               | 6           \n",
            "2280         | 0.569707           | 5               | 3           \n",
            "2293         | 0.582112           | 4               | 9           \n",
            "2380         | 0.545309           | 0               | 9           \n",
            "2387         | 0.490410           | 1               | 9           \n",
            "2414         | 0.948220           | 4               | 9           \n",
            "2462         | 0.755541           | 0               | 2           \n",
            "2597         | 0.845637           | 3               | 5           \n",
            "2654         | 0.999738           | 1               | 6           \n",
            "2720         | 0.549472           | 4               | 9           \n",
            "2896         | 0.997778           | 0               | 8           \n",
            "2927         | 0.431091           | 2               | 3           \n",
            "2939         | 0.651753           | 5               | 9           \n",
            "2953         | 0.747860           | 5               | 3           \n",
            "2995         | 0.591344           | 5               | 6           \n",
            "3422         | 0.982738           | 0               | 6           \n",
            "3503         | 0.758793           | 1               | 9           \n",
            "3520         | 0.999527           | 4               | 6           \n",
            "3727         | 0.610528           | 9               | 8           \n",
            "3767         | 0.821582           | 2               | 7           \n",
            "3808         | 0.940226           | 8               | 7           \n",
            "3869         | 0.932068           | 4               | 9           \n",
            "3985         | 0.854244           | 4               | 9           \n",
            "4163         | 0.613052           | 0               | 9           \n",
            "4176         | 0.984136           | 7               | 2           \n",
            "4205         | 0.833037           | 1               | 2           \n",
            "4248         | 0.873565           | 1               | 2           \n",
            "4425         | 0.522838           | 4               | 9           \n",
            "4497         | 0.758463           | 7               | 8           \n",
            "4500         | 0.535022           | 1               | 9           \n",
            "4639         | 0.713930           | 9               | 8           \n",
            "4740         | 0.959425           | 5               | 3           \n",
            "4761         | 0.630080           | 4               | 9           \n",
            "4807         | 0.874264           | 0               | 8           \n",
            "4823         | 0.913996           | 4               | 9           \n",
            "4956         | 0.864241           | 4               | 8           \n",
            "5937         | 0.673778           | 3               | 5           \n",
            "5955         | 0.909479           | 8               | 3           \n",
            "5973         | 0.685374           | 8               | 3           \n",
            "6091         | 0.905548           | 5               | 9           \n",
            "6505         | 0.561024           | 0               | 9           \n",
            "6571         | 0.509982           | 7               | 9           \n",
            "6576         | 0.631651           | 1               | 7           \n",
            "6597         | 0.977999           | 7               | 0           \n",
            "6625         | 0.774069           | 2               | 8           \n",
            "6651         | 0.490396           | 8               | 0           \n",
            "8059         | 0.687733           | 1               | 2           \n",
            "8408         | 0.735512           | 5               | 8           \n",
            "9642         | 0.956424           | 7               | 9           \n",
            "9664         | 0.819573           | 7               | 2           \n",
            "9692         | 0.667853           | 7               | 9           \n",
            "9729         | 0.998506           | 6               | 5           \n",
            "9770         | 0.721892           | 0               | 5           \n"
          ]
        }
      ]
    }
  ]
}